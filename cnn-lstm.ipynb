{
 "cells": [
  {
   "cell_type": "markdown",
   "id": "baf8280f",
   "metadata": {
    "papermill": {
     "duration": 0.007214,
     "end_time": "2023-08-09T07:42:20.489225",
     "exception": false,
     "start_time": "2023-08-09T07:42:20.482011",
     "status": "completed"
    },
    "tags": []
   },
   "source": [
    "<font size=4>Compare with LSTM model,CNN+LSTM is excellent.:https://www.kaggle.com/code/yunsuxiaozi/lstm-predict-mean-temp</font>\n"
   ]
  },
  {
   "cell_type": "code",
   "execution_count": 1,
   "id": "8106c08b",
   "metadata": {
    "_cell_guid": "b1076dfc-b9ad-4769-8c92-a6c4dae69d19",
    "_uuid": "8f2839f25d086af736a60e9eeb907d3b93b6e0e5",
    "execution": {
     "iopub.execute_input": "2023-08-09T07:42:20.504894Z",
     "iopub.status.busy": "2023-08-09T07:42:20.503787Z",
     "iopub.status.idle": "2023-08-09T07:42:24.435551Z",
     "shell.execute_reply": "2023-08-09T07:42:24.434217Z"
    },
    "papermill": {
     "duration": 3.942847,
     "end_time": "2023-08-09T07:42:24.438576",
     "exception": false,
     "start_time": "2023-08-09T07:42:20.495729",
     "status": "completed"
    },
    "tags": []
   },
   "outputs": [],
   "source": [
    "import pandas as pd#导入csv文件的库\n",
    "import numpy as np#进行矩阵运算的库\n",
    "import matplotlib.pyplot as plt#导入强大的绘图库\n",
    "import torch#一个深度学习的库Pytorch\n",
    "import torch.nn as nn#neural network,神经网络\n",
    "import torch.optim as optim#一个实现了各种优化算法的库\n",
    "import warnings#避免一些可以忽略的报错\n",
    "warnings.filterwarnings('ignore')#filterwarnings()方法是用于设置警告过滤器的方法，它可以控制警告信息的输出方式和级别."
   ]
  },
  {
   "cell_type": "code",
   "execution_count": 2,
   "id": "67c75ca1",
   "metadata": {
    "execution": {
     "iopub.execute_input": "2023-08-09T07:42:24.454769Z",
     "iopub.status.busy": "2023-08-09T07:42:24.453986Z",
     "iopub.status.idle": "2023-08-09T07:42:24.465731Z",
     "shell.execute_reply": "2023-08-09T07:42:24.464419Z"
    },
    "papermill": {
     "duration": 0.022178,
     "end_time": "2023-08-09T07:42:24.468290",
     "exception": false,
     "start_time": "2023-08-09T07:42:24.446112",
     "status": "completed"
    },
    "tags": []
   },
   "outputs": [],
   "source": [
    "#设置随机种子\n",
    "import random\n",
    "torch.backends.cudnn.deterministic = True#将cudnn框架中的随机数生成器设为确定性模式\n",
    "torch.backends.cudnn.benchmark = False#关闭CuDNN框架的自动寻找最优卷积算法的功能，以避免不同的算法对结果产生影响\n",
    "torch.manual_seed(42)\n",
    "np.random.seed(42)\n",
    "random.seed(42)"
   ]
  },
  {
   "cell_type": "code",
   "execution_count": 7,
   "id": "4b198af3",
   "metadata": {
    "execution": {
     "iopub.execute_input": "2023-08-09T07:42:24.483550Z",
     "iopub.status.busy": "2023-08-09T07:42:24.483059Z",
     "iopub.status.idle": "2023-08-09T07:42:24.533550Z",
     "shell.execute_reply": "2023-08-09T07:42:24.532268Z"
    },
    "papermill": {
     "duration": 0.060902,
     "end_time": "2023-08-09T07:42:24.535771",
     "exception": false,
     "start_time": "2023-08-09T07:42:24.474869",
     "status": "completed"
    },
    "tags": []
   },
   "outputs": [
    {
     "name": "stdout",
     "output_type": "stream",
     "text": [
      "len(train_df):15216\n"
     ]
    },
    {
     "data": {
      "text/html": [
       "<div>\n",
       "<style scoped>\n",
       "    .dataframe tbody tr th:only-of-type {\n",
       "        vertical-align: middle;\n",
       "    }\n",
       "\n",
       "    .dataframe tbody tr th {\n",
       "        vertical-align: top;\n",
       "    }\n",
       "\n",
       "    .dataframe thead th {\n",
       "        text-align: right;\n",
       "    }\n",
       "</style>\n",
       "<table border=\"1\" class=\"dataframe\">\n",
       "  <thead>\n",
       "    <tr style=\"text-align: right;\">\n",
       "      <th></th>\n",
       "      <th>season</th>\n",
       "      <th>yr</th>\n",
       "      <th>mnth</th>\n",
       "      <th>hr</th>\n",
       "      <th>holiday</th>\n",
       "      <th>weekday</th>\n",
       "      <th>workingday</th>\n",
       "      <th>weathersit</th>\n",
       "      <th>temp</th>\n",
       "      <th>hum</th>\n",
       "      <th>windspeed</th>\n",
       "      <th>cnt</th>\n",
       "    </tr>\n",
       "  </thead>\n",
       "  <tbody>\n",
       "    <tr>\n",
       "      <th>0</th>\n",
       "      <td>1</td>\n",
       "      <td>0</td>\n",
       "      <td>1</td>\n",
       "      <td>0</td>\n",
       "      <td>0</td>\n",
       "      <td>6</td>\n",
       "      <td>0</td>\n",
       "      <td>1</td>\n",
       "      <td>0.24</td>\n",
       "      <td>0.81</td>\n",
       "      <td>0.0</td>\n",
       "      <td>16</td>\n",
       "    </tr>\n",
       "    <tr>\n",
       "      <th>1</th>\n",
       "      <td>1</td>\n",
       "      <td>0</td>\n",
       "      <td>1</td>\n",
       "      <td>1</td>\n",
       "      <td>0</td>\n",
       "      <td>6</td>\n",
       "      <td>0</td>\n",
       "      <td>1</td>\n",
       "      <td>0.22</td>\n",
       "      <td>0.80</td>\n",
       "      <td>0.0</td>\n",
       "      <td>40</td>\n",
       "    </tr>\n",
       "    <tr>\n",
       "      <th>2</th>\n",
       "      <td>1</td>\n",
       "      <td>0</td>\n",
       "      <td>1</td>\n",
       "      <td>2</td>\n",
       "      <td>0</td>\n",
       "      <td>6</td>\n",
       "      <td>0</td>\n",
       "      <td>1</td>\n",
       "      <td>0.22</td>\n",
       "      <td>0.80</td>\n",
       "      <td>0.0</td>\n",
       "      <td>32</td>\n",
       "    </tr>\n",
       "    <tr>\n",
       "      <th>3</th>\n",
       "      <td>1</td>\n",
       "      <td>0</td>\n",
       "      <td>1</td>\n",
       "      <td>3</td>\n",
       "      <td>0</td>\n",
       "      <td>6</td>\n",
       "      <td>0</td>\n",
       "      <td>1</td>\n",
       "      <td>0.24</td>\n",
       "      <td>0.75</td>\n",
       "      <td>0.0</td>\n",
       "      <td>13</td>\n",
       "    </tr>\n",
       "    <tr>\n",
       "      <th>4</th>\n",
       "      <td>1</td>\n",
       "      <td>0</td>\n",
       "      <td>1</td>\n",
       "      <td>4</td>\n",
       "      <td>0</td>\n",
       "      <td>6</td>\n",
       "      <td>0</td>\n",
       "      <td>1</td>\n",
       "      <td>0.24</td>\n",
       "      <td>0.75</td>\n",
       "      <td>0.0</td>\n",
       "      <td>1</td>\n",
       "    </tr>\n",
       "  </tbody>\n",
       "</table>\n",
       "</div>"
      ],
      "text/plain": [
       "   season  yr  mnth  hr  holiday  weekday  workingday  weathersit  temp   hum  \\\n",
       "0       1   0     1   0        0        6           0           1  0.24  0.81   \n",
       "1       1   0     1   1        0        6           0           1  0.22  0.80   \n",
       "2       1   0     1   2        0        6           0           1  0.22  0.80   \n",
       "3       1   0     1   3        0        6           0           1  0.24  0.75   \n",
       "4       1   0     1   4        0        6           0           1  0.24  0.75   \n",
       "\n",
       "   windspeed  cnt  \n",
       "0        0.0   16  \n",
       "1        0.0   40  \n",
       "2        0.0   32  \n",
       "3        0.0   13  \n",
       "4        0.0    1  "
      ]
     },
     "execution_count": 7,
     "metadata": {},
     "output_type": "execute_result"
    }
   ],
   "source": [
    "train_df=pd.read_csv(\"/home/dzhang/wudan/machine_learning/LSTM/data/train_data.csv\")\n",
    "train_df.drop('instant', axis=1, inplace=True)  # 删除序号\n",
    "train_df.drop('dteday', axis=1, inplace=True)  # 删除日期\n",
    "train_df.drop('atemp', axis=1, inplace=True)  # 删除日期\n",
    "train_df.drop('casual', axis=1, inplace=True)  # 删除日期\n",
    "train_df.drop('registered', axis=1, inplace=True)  # 删除日期\n",
    "print(f\"len(train_df):{len(train_df)}\")\n",
    "train_df.head()"
   ]
  },
  {
   "cell_type": "code",
   "execution_count": 37,
   "id": "5bf0b551",
   "metadata": {
    "execution": {
     "iopub.execute_input": "2023-08-09T07:42:24.552105Z",
     "iopub.status.busy": "2023-08-09T07:42:24.551595Z",
     "iopub.status.idle": "2023-08-09T07:42:24.558131Z",
     "shell.execute_reply": "2023-08-09T07:42:24.556964Z"
    },
    "papermill": {
     "duration": 0.017951,
     "end_time": "2023-08-09T07:42:24.560777",
     "exception": false,
     "start_time": "2023-08-09T07:42:24.542826",
     "status": "completed"
    },
    "tags": []
   },
   "outputs": [
    {
     "name": "stdout",
     "output_type": "stream",
     "text": [
      "len(cnt):15216\n"
     ]
    }
   ],
   "source": [
    "meantemp=train_df['cnt'].values\n",
    "print(f\"len(cnt):{len(meantemp)}\")"
   ]
  },
  {
   "cell_type": "code",
   "execution_count": 31,
   "id": "452b3c52",
   "metadata": {
    "execution": {
     "iopub.execute_input": "2023-08-09T07:42:24.577620Z",
     "iopub.status.busy": "2023-08-09T07:42:24.576632Z",
     "iopub.status.idle": "2023-08-09T07:42:24.933647Z",
     "shell.execute_reply": "2023-08-09T07:42:24.932288Z"
    },
    "papermill": {
     "duration": 0.369019,
     "end_time": "2023-08-09T07:42:24.936797",
     "exception": false,
     "start_time": "2023-08-09T07:42:24.567778",
     "status": "completed"
    },
    "tags": []
   },
   "outputs": [
    {
     "data": {
      "text/plain": [
       "[<matplotlib.lines.Line2D at 0x7f8044aa8130>,\n",
       " <matplotlib.lines.Line2D at 0x7f8044aa8190>,\n",
       " <matplotlib.lines.Line2D at 0x7f8044aa81c0>,\n",
       " <matplotlib.lines.Line2D at 0x7f8044b1ff40>,\n",
       " <matplotlib.lines.Line2D at 0x7f8044b1ff70>,\n",
       " <matplotlib.lines.Line2D at 0x7f8044b1ffa0>,\n",
       " <matplotlib.lines.Line2D at 0x7f8044aa8460>,\n",
       " <matplotlib.lines.Line2D at 0x7f8044aa8550>,\n",
       " <matplotlib.lines.Line2D at 0x7f8044aa8640>,\n",
       " <matplotlib.lines.Line2D at 0x7f8044aa8730>,\n",
       " <matplotlib.lines.Line2D at 0x7f8044aa8820>,\n",
       " <matplotlib.lines.Line2D at 0x7f8044aa8160>]"
      ]
     },
     "execution_count": 31,
     "metadata": {},
     "output_type": "execute_result"
    },
    {
     "data": {
      "image/png": "[encoded data removed]",
      "text/plain": [
       "<Figure size 640x480 with 1 Axes>"
      ]
     },
     "metadata": {},
     "output_type": "display_data"
    }
   ],
   "source": [
    "plt.plot([i for i in range(len(meantemp))],meantemp)"
   ]
  },
  {
   "cell_type": "code",
   "execution_count": 36,
   "id": "5b18af72",
   "metadata": {
    "execution": {
     "iopub.execute_input": "2023-08-09T07:42:24.955778Z",
     "iopub.status.busy": "2023-08-09T07:42:24.954771Z",
     "iopub.status.idle": "2023-08-09T07:42:26.012976Z",
     "shell.execute_reply": "2023-08-09T07:42:26.011364Z"
    },
    "papermill": {
     "duration": 1.071388,
     "end_time": "2023-08-09T07:42:26.016496",
     "exception": false,
     "start_time": "2023-08-09T07:42:24.945108",
     "status": "completed"
    },
    "tags": []
   },
   "outputs": [
    {
     "data": {
      "text/plain": [
       "(182592, 1)"
      ]
     },
     "execution_count": 36,
     "metadata": {},
     "output_type": "execute_result"
    }
   ],
   "source": [
    "from sklearn.preprocessing import MinMaxScaler\n",
    "# 创建MinMaxScaler对象\n",
    "scaler = MinMaxScaler()\n",
    "# 将数据进行归一化\n",
    "meantemp = scaler.fit_transform(meantemp.reshape(-1,1))\n",
    "meantemp.shape"
   ]
  },
  {
   "cell_type": "code",
   "execution_count": 33,
   "id": "d62937d3",
   "metadata": {
    "execution": {
     "iopub.execute_input": "2023-08-09T07:42:26.038824Z",
     "iopub.status.busy": "2023-08-09T07:42:26.038226Z",
     "iopub.status.idle": "2023-08-09T07:42:26.049133Z",
     "shell.execute_reply": "2023-08-09T07:42:26.046546Z"
    },
    "papermill": {
     "duration": 0.02846,
     "end_time": "2023-08-09T07:42:26.055456",
     "exception": false,
     "start_time": "2023-08-09T07:42:26.026996",
     "status": "completed"
    },
    "tags": []
   },
   "outputs": [],
   "source": [
    "def create_sequences(data, input_length, output_length):\n",
    "        X, y = [], []\n",
    "        for i in range(len(data) - input_length - output_length + 1):\n",
    "            X.append(data[i:i + input_length, :-1])  # 使用除cnt之外的所有特征\n",
    "            y.append(data[i + input_length:i + input_length + output_length, -1])  # cnt是最后一列\n",
    "        return np.array(X), np.array(y)"
   ]
  },
  {
   "cell_type": "code",
   "execution_count": 39,
   "id": "7c17940c",
   "metadata": {
    "execution": {
     "iopub.execute_input": "2023-08-09T07:42:26.076092Z",
     "iopub.status.busy": "2023-08-09T07:42:26.075591Z",
     "iopub.status.idle": "2023-08-09T07:42:26.089865Z",
     "shell.execute_reply": "2023-08-09T07:42:26.088321Z"
    },
    "papermill": {
     "duration": 0.028565,
     "end_time": "2023-08-09T07:42:26.093317",
     "exception": false,
     "start_time": "2023-08-09T07:42:26.064752",
     "status": "completed"
    },
    "tags": []
   },
   "outputs": [
    {
     "name": "stdout",
     "output_type": "stream",
     "text": [
      "dataX.shape:(15025, 96, 11),datay.shape:(15025, 96)\n"
     ]
    }
   ],
   "source": [
    "dataX,datay=create_sequences(train_df.values,96,96)\n",
    "print(f\"dataX.shape:{dataX.shape},datay.shape:{datay.shape}\")"
   ]
  },
  {
   "cell_type": "code",
   "execution_count": 40,
   "id": "fc2c3a22",
   "metadata": {
    "execution": {
     "iopub.execute_input": "2023-08-09T07:42:26.113095Z",
     "iopub.status.busy": "2023-08-09T07:42:26.111751Z",
     "iopub.status.idle": "2023-08-09T07:42:26.120702Z",
     "shell.execute_reply": "2023-08-09T07:42:26.119856Z"
    },
    "papermill": {
     "duration": 0.020907,
     "end_time": "2023-08-09T07:42:26.122947",
     "exception": false,
     "start_time": "2023-08-09T07:42:26.102040",
     "status": "completed"
    },
    "tags": []
   },
   "outputs": [],
   "source": [
    "#划分训练集和测试集的函数\n",
    "def train_test_split(dataX,datay,shuffle=True,percentage=0.8):\n",
    "    \"\"\"\n",
    "    将训练数据X和标签y以numpy.array数组的形式传入\n",
    "    划分的比例定为训练集:测试集=8:2\n",
    "    \"\"\"\n",
    "    if shuffle:\n",
    "        random_num=[index for index in range(len(dataX))]\n",
    "        np.random.shuffle(random_num)\n",
    "        dataX=dataX[random_num]\n",
    "        datay=datay[random_num]\n",
    "    split_num=int(len(dataX)*percentage)\n",
    "    train_X=dataX[:split_num]\n",
    "    train_y=datay[:split_num]\n",
    "    test_X=dataX[split_num:]\n",
    "    test_y=datay[split_num:]\n",
    "    return train_X,train_y,test_X,test_y"
   ]
  },
  {
   "cell_type": "code",
   "execution_count": 41,
   "id": "f05d4617",
   "metadata": {
    "execution": {
     "iopub.execute_input": "2023-08-09T07:42:26.142882Z",
     "iopub.status.busy": "2023-08-09T07:42:26.142438Z",
     "iopub.status.idle": "2023-08-09T07:42:26.148593Z",
     "shell.execute_reply": "2023-08-09T07:42:26.147495Z"
    },
    "papermill": {
     "duration": 0.018357,
     "end_time": "2023-08-09T07:42:26.151062",
     "exception": false,
     "start_time": "2023-08-09T07:42:26.132705",
     "status": "completed"
    },
    "tags": []
   },
   "outputs": [
    {
     "name": "stdout",
     "output_type": "stream",
     "text": [
      "train_X.shape:(12020, 96, 11),test_X.shape:(3005, 96, 11)\n"
     ]
    }
   ],
   "source": [
    "train_X,train_y,test_X,test_y=train_test_split(dataX,datay,shuffle=False,percentage=0.8)\n",
    "print(f\"train_X.shape:{train_X.shape},test_X.shape:{test_X.shape}\")"
   ]
  },
  {
   "cell_type": "code",
   "execution_count": 42,
   "id": "4a8b2156",
   "metadata": {
    "execution": {
     "iopub.execute_input": "2023-08-09T07:42:26.168844Z",
     "iopub.status.busy": "2023-08-09T07:42:26.168374Z",
     "iopub.status.idle": "2023-08-09T07:42:26.173858Z",
     "shell.execute_reply": "2023-08-09T07:42:26.172865Z"
    },
    "papermill": {
     "duration": 0.017024,
     "end_time": "2023-08-09T07:42:26.176094",
     "exception": false,
     "start_time": "2023-08-09T07:42:26.159070",
     "status": "completed"
    },
    "tags": []
   },
   "outputs": [],
   "source": [
    "X_train,y_train=train_X,train_y"
   ]
  },
  {
   "cell_type": "code",
   "execution_count": 47,
   "id": "8c462cd4",
   "metadata": {
    "execution": {
     "iopub.execute_input": "2023-08-09T07:42:26.195124Z",
     "iopub.status.busy": "2023-08-09T07:42:26.194614Z",
     "iopub.status.idle": "2023-08-09T07:42:26.205159Z",
     "shell.execute_reply": "2023-08-09T07:42:26.204026Z"
    },
    "papermill": {
     "duration": 0.023019,
     "end_time": "2023-08-09T07:42:26.207398",
     "exception": false,
     "start_time": "2023-08-09T07:42:26.184379",
     "status": "completed"
    },
    "tags": []
   },
   "outputs": [],
   "source": [
    "# 定义CNN+LSTM模型类\n",
    "class CNN_LSTM(nn.Module):\n",
    "    def __init__(self, conv_input,input_size, hidden_size, num_layers, output_size):\n",
    "        super(CNN_LSTM,self).__init__()\n",
    "        self.hidden_size = hidden_size\n",
    "        self.num_layers = num_layers\n",
    "        self.conv=nn.Conv1d(conv_input,conv_input,1)\n",
    "        self.lstm = nn.LSTM(input_size, hidden_size, num_layers, batch_first=True)\n",
    "        self.fc = nn.Linear(hidden_size, output_size)\n",
    "    \n",
    "    def forward(self, x):\n",
    "        x=self.conv(x)\n",
    "        h0 = torch.zeros(self.num_layers,x.size(0), self.hidden_size) # 初始化隐藏状态h0\n",
    "        c0 = torch.zeros(self.num_layers,x.size(0), self.hidden_size)  # 初始化记忆状态c0\n",
    "        #print(f\"x.shape:{x.shape},h0.shape:{h0.shape},c0.shape:{c0.shape}\")\n",
    "        out, _ = self.lstm(x, (h0, c0))  # LSTM前向传播\n",
    "        out = self.fc(out[:, -1, :])  # 取最后一个时间步的输出作为预测结果\n",
    "        return out"
   ]
  },
  {
   "cell_type": "code",
   "execution_count": 51,
   "id": "79ca1763",
   "metadata": {
    "execution": {
     "iopub.execute_input": "2023-08-09T07:42:26.225823Z",
     "iopub.status.busy": "2023-08-09T07:42:26.225335Z",
     "iopub.status.idle": "2023-08-09T07:42:37.910772Z",
     "shell.execute_reply": "2023-08-09T07:42:37.909499Z"
    },
    "papermill": {
     "duration": 11.698212,
     "end_time": "2023-08-09T07:42:37.913696",
     "exception": false,
     "start_time": "2023-08-09T07:42:26.215484",
     "status": "completed"
    },
    "tags": []
   },
   "outputs": [
    {
     "name": "stdout",
     "output_type": "stream",
     "text": [
      "start\n"
     ]
    },
    {
     "ename": "RuntimeError",
     "evalue": "Input type (torch.FloatTensor) and weight type (torch.cuda.FloatTensor) should be the same or input should be a MKLDNN tensor and weight is a dense tensor",
     "output_type": "error",
     "traceback": [
      "\u001b[0;31m---------------------------------------------------------------------------\u001b[0m",
      "\u001b[0;31mRuntimeError\u001b[0m                              Traceback (most recent call last)",
      "File \u001b[0;32m<timed exec>:48\u001b[0m\n",
      "File \u001b[0;32m~/anaconda3/envs/wd-mlp/lib/python3.8/site-packages/torch/nn/modules/module.py:1110\u001b[0m, in \u001b[0;36mModule._call_impl\u001b[0;34m(self, *input, **kwargs)\u001b[0m\n\u001b[1;32m   1106\u001b[0m \u001b[38;5;66;03m# If we don't have any hooks, we want to skip the rest of the logic in\u001b[39;00m\n\u001b[1;32m   1107\u001b[0m \u001b[38;5;66;03m# this function, and just call forward.\u001b[39;00m\n\u001b[1;32m   1108\u001b[0m \u001b[38;5;28;01mif\u001b[39;00m \u001b[38;5;129;01mnot\u001b[39;00m (\u001b[38;5;28mself\u001b[39m\u001b[38;5;241m.\u001b[39m_backward_hooks \u001b[38;5;129;01mor\u001b[39;00m \u001b[38;5;28mself\u001b[39m\u001b[38;5;241m.\u001b[39m_forward_hooks \u001b[38;5;129;01mor\u001b[39;00m \u001b[38;5;28mself\u001b[39m\u001b[38;5;241m.\u001b[39m_forward_pre_hooks \u001b[38;5;129;01mor\u001b[39;00m _global_backward_hooks\n\u001b[1;32m   1109\u001b[0m         \u001b[38;5;129;01mor\u001b[39;00m _global_forward_hooks \u001b[38;5;129;01mor\u001b[39;00m _global_forward_pre_hooks):\n\u001b[0;32m-> 1110\u001b[0m     \u001b[38;5;28;01mreturn\u001b[39;00m \u001b[43mforward_call\u001b[49m\u001b[43m(\u001b[49m\u001b[38;5;241;43m*\u001b[39;49m\u001b[38;5;28;43minput\u001b[39;49m\u001b[43m,\u001b[49m\u001b[43m \u001b[49m\u001b[38;5;241;43m*\u001b[39;49m\u001b[38;5;241;43m*\u001b[39;49m\u001b[43mkwargs\u001b[49m\u001b[43m)\u001b[49m\n\u001b[1;32m   1111\u001b[0m \u001b[38;5;66;03m# Do not call functions when jit is used\u001b[39;00m\n\u001b[1;32m   1112\u001b[0m full_backward_hooks, non_full_backward_hooks \u001b[38;5;241m=\u001b[39m [], []\n",
      "Cell \u001b[0;32mIn[47], line 12\u001b[0m, in \u001b[0;36mCNN_LSTM.forward\u001b[0;34m(self, x)\u001b[0m\n\u001b[1;32m     11\u001b[0m \u001b[38;5;28;01mdef\u001b[39;00m \u001b[38;5;21mforward\u001b[39m(\u001b[38;5;28mself\u001b[39m, x):\n\u001b[0;32m---> 12\u001b[0m     x\u001b[38;5;241m=\u001b[39m\u001b[38;5;28;43mself\u001b[39;49m\u001b[38;5;241;43m.\u001b[39;49m\u001b[43mconv\u001b[49m\u001b[43m(\u001b[49m\u001b[43mx\u001b[49m\u001b[43m)\u001b[49m\n\u001b[1;32m     13\u001b[0m     h0 \u001b[38;5;241m=\u001b[39m torch\u001b[38;5;241m.\u001b[39mzeros(\u001b[38;5;28mself\u001b[39m\u001b[38;5;241m.\u001b[39mnum_layers,x\u001b[38;5;241m.\u001b[39msize(\u001b[38;5;241m0\u001b[39m), \u001b[38;5;28mself\u001b[39m\u001b[38;5;241m.\u001b[39mhidden_size) \u001b[38;5;66;03m# 初始化隐藏状态h0\u001b[39;00m\n\u001b[1;32m     14\u001b[0m     c0 \u001b[38;5;241m=\u001b[39m torch\u001b[38;5;241m.\u001b[39mzeros(\u001b[38;5;28mself\u001b[39m\u001b[38;5;241m.\u001b[39mnum_layers,x\u001b[38;5;241m.\u001b[39msize(\u001b[38;5;241m0\u001b[39m), \u001b[38;5;28mself\u001b[39m\u001b[38;5;241m.\u001b[39mhidden_size)  \u001b[38;5;66;03m# 初始化记忆状态c0\u001b[39;00m\n",
      "File \u001b[0;32m~/anaconda3/envs/wd-mlp/lib/python3.8/site-packages/torch/nn/modules/module.py:1110\u001b[0m, in \u001b[0;36mModule._call_impl\u001b[0;34m(self, *input, **kwargs)\u001b[0m\n\u001b[1;32m   1106\u001b[0m \u001b[38;5;66;03m# If we don't have any hooks, we want to skip the rest of the logic in\u001b[39;00m\n\u001b[1;32m   1107\u001b[0m \u001b[38;5;66;03m# this function, and just call forward.\u001b[39;00m\n\u001b[1;32m   1108\u001b[0m \u001b[38;5;28;01mif\u001b[39;00m \u001b[38;5;129;01mnot\u001b[39;00m (\u001b[38;5;28mself\u001b[39m\u001b[38;5;241m.\u001b[39m_backward_hooks \u001b[38;5;129;01mor\u001b[39;00m \u001b[38;5;28mself\u001b[39m\u001b[38;5;241m.\u001b[39m_forward_hooks \u001b[38;5;129;01mor\u001b[39;00m \u001b[38;5;28mself\u001b[39m\u001b[38;5;241m.\u001b[39m_forward_pre_hooks \u001b[38;5;129;01mor\u001b[39;00m _global_backward_hooks\n\u001b[1;32m   1109\u001b[0m         \u001b[38;5;129;01mor\u001b[39;00m _global_forward_hooks \u001b[38;5;129;01mor\u001b[39;00m _global_forward_pre_hooks):\n\u001b[0;32m-> 1110\u001b[0m     \u001b[38;5;28;01mreturn\u001b[39;00m \u001b[43mforward_call\u001b[49m\u001b[43m(\u001b[49m\u001b[38;5;241;43m*\u001b[39;49m\u001b[38;5;28;43minput\u001b[39;49m\u001b[43m,\u001b[49m\u001b[43m \u001b[49m\u001b[38;5;241;43m*\u001b[39;49m\u001b[38;5;241;43m*\u001b[39;49m\u001b[43mkwargs\u001b[49m\u001b[43m)\u001b[49m\n\u001b[1;32m   1111\u001b[0m \u001b[38;5;66;03m# Do not call functions when jit is used\u001b[39;00m\n\u001b[1;32m   1112\u001b[0m full_backward_hooks, non_full_backward_hooks \u001b[38;5;241m=\u001b[39m [], []\n",
      "File \u001b[0;32m~/anaconda3/envs/wd-mlp/lib/python3.8/site-packages/torch/nn/modules/conv.py:302\u001b[0m, in \u001b[0;36mConv1d.forward\u001b[0;34m(self, input)\u001b[0m\n\u001b[1;32m    301\u001b[0m \u001b[38;5;28;01mdef\u001b[39;00m \u001b[38;5;21mforward\u001b[39m(\u001b[38;5;28mself\u001b[39m, \u001b[38;5;28minput\u001b[39m: Tensor) \u001b[38;5;241m-\u001b[39m\u001b[38;5;241m>\u001b[39m Tensor:\n\u001b[0;32m--> 302\u001b[0m     \u001b[38;5;28;01mreturn\u001b[39;00m \u001b[38;5;28;43mself\u001b[39;49m\u001b[38;5;241;43m.\u001b[39;49m\u001b[43m_conv_forward\u001b[49m\u001b[43m(\u001b[49m\u001b[38;5;28;43minput\u001b[39;49m\u001b[43m,\u001b[49m\u001b[43m \u001b[49m\u001b[38;5;28;43mself\u001b[39;49m\u001b[38;5;241;43m.\u001b[39;49m\u001b[43mweight\u001b[49m\u001b[43m,\u001b[49m\u001b[43m \u001b[49m\u001b[38;5;28;43mself\u001b[39;49m\u001b[38;5;241;43m.\u001b[39;49m\u001b[43mbias\u001b[49m\u001b[43m)\u001b[49m\n",
      "File \u001b[0;32m~/anaconda3/envs/wd-mlp/lib/python3.8/site-packages/torch/nn/modules/conv.py:298\u001b[0m, in \u001b[0;36mConv1d._conv_forward\u001b[0;34m(self, input, weight, bias)\u001b[0m\n\u001b[1;32m    294\u001b[0m \u001b[38;5;28;01mif\u001b[39;00m \u001b[38;5;28mself\u001b[39m\u001b[38;5;241m.\u001b[39mpadding_mode \u001b[38;5;241m!=\u001b[39m \u001b[38;5;124m'\u001b[39m\u001b[38;5;124mzeros\u001b[39m\u001b[38;5;124m'\u001b[39m:\n\u001b[1;32m    295\u001b[0m     \u001b[38;5;28;01mreturn\u001b[39;00m F\u001b[38;5;241m.\u001b[39mconv1d(F\u001b[38;5;241m.\u001b[39mpad(\u001b[38;5;28minput\u001b[39m, \u001b[38;5;28mself\u001b[39m\u001b[38;5;241m.\u001b[39m_reversed_padding_repeated_twice, mode\u001b[38;5;241m=\u001b[39m\u001b[38;5;28mself\u001b[39m\u001b[38;5;241m.\u001b[39mpadding_mode),\n\u001b[1;32m    296\u001b[0m                     weight, bias, \u001b[38;5;28mself\u001b[39m\u001b[38;5;241m.\u001b[39mstride,\n\u001b[1;32m    297\u001b[0m                     _single(\u001b[38;5;241m0\u001b[39m), \u001b[38;5;28mself\u001b[39m\u001b[38;5;241m.\u001b[39mdilation, \u001b[38;5;28mself\u001b[39m\u001b[38;5;241m.\u001b[39mgroups)\n\u001b[0;32m--> 298\u001b[0m \u001b[38;5;28;01mreturn\u001b[39;00m \u001b[43mF\u001b[49m\u001b[38;5;241;43m.\u001b[39;49m\u001b[43mconv1d\u001b[49m\u001b[43m(\u001b[49m\u001b[38;5;28;43minput\u001b[39;49m\u001b[43m,\u001b[49m\u001b[43m \u001b[49m\u001b[43mweight\u001b[49m\u001b[43m,\u001b[49m\u001b[43m \u001b[49m\u001b[43mbias\u001b[49m\u001b[43m,\u001b[49m\u001b[43m \u001b[49m\u001b[38;5;28;43mself\u001b[39;49m\u001b[38;5;241;43m.\u001b[39;49m\u001b[43mstride\u001b[49m\u001b[43m,\u001b[49m\n\u001b[1;32m    299\u001b[0m \u001b[43m                \u001b[49m\u001b[38;5;28;43mself\u001b[39;49m\u001b[38;5;241;43m.\u001b[39;49m\u001b[43mpadding\u001b[49m\u001b[43m,\u001b[49m\u001b[43m \u001b[49m\u001b[38;5;28;43mself\u001b[39;49m\u001b[38;5;241;43m.\u001b[39;49m\u001b[43mdilation\u001b[49m\u001b[43m,\u001b[49m\u001b[43m \u001b[49m\u001b[38;5;28;43mself\u001b[39;49m\u001b[38;5;241;43m.\u001b[39;49m\u001b[43mgroups\u001b[49m\u001b[43m)\u001b[49m\n",
      "\u001b[0;31mRuntimeError\u001b[0m: Input type (torch.FloatTensor) and weight type (torch.cuda.FloatTensor) should be the same or input should be a MKLDNN tensor and weight is a dense tensor"
     ]
    }
   ],
   "source": [
    "%%time \n",
    "device = torch.device('cuda:0' if torch.cuda.is_available() else 'cpu')\n",
    "test_X1=torch.Tensor(test_X)\n",
    "test_y1=torch.Tensor(test_y)\n",
    "\n",
    "# 定义输入、隐藏状态和输出维度\n",
    "input_size = 11  # 输入特征维度\n",
    "conv_input=96\n",
    "hidden_size = 96  # LSTM隐藏状态维度\n",
    "num_layers = 5  # LSTM层数\n",
    "output_size = 96  # 输出维度（预测目标维度）\n",
    "\n",
    "# 创建CNN_LSTM模型实例\n",
    "model =CNN_LSTM(conv_input,input_size, hidden_size, num_layers, output_size)\n",
    "model.to(device)\n",
    "#训练周期为500次\n",
    "num_epochs=500\n",
    "batch_size=64#一次训练的数量\n",
    "#优化器\n",
    "optimizer=optim.Adam(model.parameters(),lr=0.0001,betas=(0.5,0.999))\n",
    "#损失函数\n",
    "criterion=nn.MSELoss()\n",
    "\n",
    "train_losses=[]\n",
    "test_losses=[]\n",
    "\n",
    "print(f\"start\")\n",
    "\n",
    "for epoch in range(num_epochs):\n",
    "    \n",
    "    random_num=[i for i in range(len(train_X))]\n",
    "    np.random.shuffle(random_num)\n",
    "    \n",
    "    train_X=train_X[random_num]\n",
    "    train_y=train_y[random_num]\n",
    "    \n",
    "    train_X1=torch.Tensor(train_X[:batch_size])\n",
    "    train_y1=torch.Tensor(train_y[:batch_size])\n",
    "    \n",
    "    #训练\n",
    "    model.train()\n",
    "    #将梯度清空\n",
    "    optimizer.zero_grad()\n",
    "    #将数据放进去训练\n",
    "    train_X1.to(device)\n",
    "    train_y1.to(device)\n",
    "    test_X1.to(device)\n",
    "    test_y1.to(device)\n",
    "    output=model(train_X1)\n",
    "    #计算每次的损失函数\n",
    "    train_loss=criterion(output,train_y1)\n",
    "    #反向传播\n",
    "    train_loss.backward()\n",
    "    #优化器进行优化(梯度下降,降低误差)\n",
    "    optimizer.step()\n",
    "    \n",
    "    if epoch%50==0:\n",
    "        model.eval()\n",
    "        with torch.no_grad():\n",
    "            output=model(test_X1)\n",
    "            test_loss=criterion(output,test_y1)\n",
    "        train_losses.append(train_loss)\n",
    "        test_losses.append(test_loss)\n",
    "        print(f\"epoch:{epoch},train_loss:{train_loss},test_loss:{test_loss}\")"
   ]
  },
  {
   "cell_type": "code",
   "execution_count": 14,
   "id": "7fc4cbaf",
   "metadata": {
    "execution": {
     "iopub.execute_input": "2023-08-09T07:42:37.934750Z",
     "iopub.status.busy": "2023-08-09T07:42:37.934303Z",
     "iopub.status.idle": "2023-08-09T07:42:37.939659Z",
     "shell.execute_reply": "2023-08-09T07:42:37.938528Z"
    },
    "papermill": {
     "duration": 0.018776,
     "end_time": "2023-08-09T07:42:37.941898",
     "exception": false,
     "start_time": "2023-08-09T07:42:37.923122",
     "status": "completed"
    },
    "tags": []
   },
   "outputs": [],
   "source": [
    "def mse(pred_y,true_y):\n",
    "    return np.mean((pred_y-true_y) ** 2)"
   ]
  },
  {
   "cell_type": "code",
   "execution_count": 15,
   "id": "0e03bc4a",
   "metadata": {
    "execution": {
     "iopub.execute_input": "2023-08-09T07:42:37.962748Z",
     "iopub.status.busy": "2023-08-09T07:42:37.962306Z",
     "iopub.status.idle": "2023-08-09T07:42:38.202406Z",
     "shell.execute_reply": "2023-08-09T07:42:38.201255Z"
    },
    "papermill": {
     "duration": 0.253725,
     "end_time": "2023-08-09T07:42:38.205101",
     "exception": false,
     "start_time": "2023-08-09T07:42:37.951376",
     "status": "completed"
    },
    "tags": []
   },
   "outputs": [
    {
     "name": "stdout",
     "output_type": "stream",
     "text": [
      "mse(pred_y,true_y):5.53722039981887\n"
     ]
    }
   ],
   "source": [
    "train_X1=torch.Tensor(X_train)\n",
    "train_pred=model(train_X1).detach().numpy()\n",
    "test_pred=model(test_X1).detach().numpy()\n",
    "pred_y=np.concatenate((train_pred,test_pred))\n",
    "pred_y=scaler.inverse_transform(pred_y).T[0]\n",
    "true_y=np.concatenate((y_train,test_y))\n",
    "true_y=scaler.inverse_transform(true_y).T[0]\n",
    "print(f\"mse(pred_y,true_y):{mse(pred_y,true_y)}\")"
   ]
  },
  {
   "cell_type": "code",
   "execution_count": 16,
   "id": "7eb64a30",
   "metadata": {
    "execution": {
     "iopub.execute_input": "2023-08-09T07:42:38.226200Z",
     "iopub.status.busy": "2023-08-09T07:42:38.225708Z",
     "iopub.status.idle": "2023-08-09T07:42:38.601425Z",
     "shell.execute_reply": "2023-08-09T07:42:38.600210Z"
    },
    "papermill": {
     "duration": 0.389757,
     "end_time": "2023-08-09T07:42:38.604418",
     "exception": false,
     "start_time": "2023-08-09T07:42:38.214661",
     "status": "completed"
    },
    "tags": []
   },
   "outputs": [
    {
     "data": {
      "image/png": "[encoded data removed]",
      "text/plain": [
       "<Figure size 640x480 with 1 Axes>"
      ]
     },
     "metadata": {},
     "output_type": "display_data"
    }
   ],
   "source": [
    "plt.title(\"CNN_LSTM\")\n",
    "x=[i for i in range(len(true_y))]\n",
    "plt.plot(x,pred_y,marker=\"o\",markersize=1,label=\"pred_y\")\n",
    "plt.plot(x,true_y,marker=\"x\",markersize=1,label=\"true_y\")\n",
    "plt.legend()\n",
    "plt.show()"
   ]
  }
 ],
 "metadata": {
  "kernelspec": {
   "display_name": "wd-mlp",
   "language": "python",
   "name": "python3"
  },
  "language_info": {
   "codemirror_mode": {
    "name": "ipython",
    "version": 3
   },
   "file_extension": ".py",
   "mimetype": "text/x-python",
   "name": "python",
   "nbconvert_exporter": "python",
   "pygments_lexer": "ipython3",
   "version": "3.8.20"
  },
  "papermill": {
   "default_parameters": {},
   "duration": 33.98427,
   "end_time": "2023-08-09T07:42:41.396427",
   "environment_variables": {},
   "exception": null,
   "input_path": "__notebook__.ipynb",
   "output_path": "__notebook__.ipynb",
   "parameters": {},
   "start_time": "2023-08-09T07:42:07.412157",
   "version": "2.4.0"
  }
 },
 "nbformat": 4,
 "nbformat_minor": 5
}
